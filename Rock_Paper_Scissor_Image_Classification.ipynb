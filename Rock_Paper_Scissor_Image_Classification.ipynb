{
  "nbformat": 4,
  "nbformat_minor": 0,
  "metadata": {
    "colab": {
      "name": "Rock-Paper-Scissor_Image-Classification.ipynb",
      "provenance": [],
      "collapsed_sections": [],
      "authorship_tag": "ABX9TyPBPUy26+cQFTn+eoc9ANS0",
      "include_colab_link": true
    },
    "kernelspec": {
      "name": "python3",
      "display_name": "Python 3"
    },
    "language_info": {
      "name": "python"
    }
  },
  "cells": [
    {
      "cell_type": "markdown",
      "metadata": {
        "id": "view-in-github",
        "colab_type": "text"
      },
      "source": [
        "<a href=\"https://colab.research.google.com/github/ShinyQ/CNN_Rock-Paper-Scissor-Classification/blob/main/Rock_Paper_Scissor_Image_Classification.ipynb\" target=\"_parent\"><img src=\"https://colab.research.google.com/assets/colab-badge.svg\" alt=\"Open In Colab\"/></a>"
      ]
    },
    {
      "cell_type": "markdown",
      "metadata": {
        "id": "86QGzHwbNkLp"
      },
      "source": [
        "# **Rock, Paper Scissor Image Classification**\n",
        "\n",
        "Nama : Kurniadi Ahmad Wijaya <br>\n",
        "Email : kurniadiwijaya@student.telkomuniversity.ac.id"
      ]
    },
    {
      "cell_type": "markdown",
      "metadata": {
        "id": "QTwml0wWN_XH"
      },
      "source": [
        "### **Project Description**"
      ]
    },
    {
      "cell_type": "markdown",
      "metadata": {
        "id": "_678wno9OHCm"
      },
      "source": [
        ""
      ]
    },
    {
      "cell_type": "markdown",
      "metadata": {
        "id": "lDnvqoKYOH2v"
      },
      "source": [
        "### **Import Library**"
      ]
    },
    {
      "cell_type": "code",
      "metadata": {
        "id": "QD0xCgcPNgki"
      },
      "source": [
        ""
      ],
      "execution_count": null,
      "outputs": []
    },
    {
      "cell_type": "markdown",
      "metadata": {
        "id": "iXIjWpcjOP4O"
      },
      "source": [
        "### **Import And Save Image Dataset**"
      ]
    },
    {
      "cell_type": "code",
      "metadata": {
        "id": "CDPh_fRQOVJG"
      },
      "source": [
        ""
      ],
      "execution_count": null,
      "outputs": []
    },
    {
      "cell_type": "markdown",
      "metadata": {
        "id": "kUVR7le5OVjG"
      },
      "source": [
        "### **Seperate Train And Validation Data**"
      ]
    },
    {
      "cell_type": "code",
      "metadata": {
        "id": "gKLlPPcPOZzH"
      },
      "source": [
        ""
      ],
      "execution_count": null,
      "outputs": []
    },
    {
      "cell_type": "markdown",
      "metadata": {
        "id": "sfceIh9eOaIm"
      },
      "source": [
        "### **Image Augmentation**"
      ]
    },
    {
      "cell_type": "code",
      "metadata": {
        "id": "AvKk_GbPOdV2"
      },
      "source": [
        ""
      ],
      "execution_count": null,
      "outputs": []
    },
    {
      "cell_type": "markdown",
      "metadata": {
        "id": "QQg9cct6Odp_"
      },
      "source": [
        "### **Set Training And Validation Configuration**"
      ]
    },
    {
      "cell_type": "code",
      "metadata": {
        "id": "46kexTqUOiIX"
      },
      "source": [
        ""
      ],
      "execution_count": null,
      "outputs": []
    },
    {
      "cell_type": "markdown",
      "metadata": {
        "id": "LTKwi4JaOix3"
      },
      "source": [
        "### **Setup CNN Model**"
      ]
    },
    {
      "cell_type": "code",
      "metadata": {
        "id": "NLnlu6wUOk4v"
      },
      "source": [
        ""
      ],
      "execution_count": null,
      "outputs": []
    },
    {
      "cell_type": "markdown",
      "metadata": {
        "id": "ru8TTI2uOlDG"
      },
      "source": [
        "### **Train The CNN Model**"
      ]
    },
    {
      "cell_type": "code",
      "metadata": {
        "id": "YmFbH_rlOqh2"
      },
      "source": [
        ""
      ],
      "execution_count": null,
      "outputs": []
    },
    {
      "cell_type": "markdown",
      "metadata": {
        "id": "a0QSlPiiOqvm"
      },
      "source": [
        "### **Testing Model**"
      ]
    },
    {
      "cell_type": "code",
      "metadata": {
        "id": "ZpeT2gAvOtv3"
      },
      "source": [
        ""
      ],
      "execution_count": null,
      "outputs": []
    },
    {
      "cell_type": "markdown",
      "metadata": {
        "id": "w1UQNq0yOurO"
      },
      "source": [
        "### **Conclusion**"
      ]
    },
    {
      "cell_type": "markdown",
      "metadata": {
        "id": "uwc4RaXxOwqQ"
      },
      "source": [
        ""
      ]
    }
  ]
}